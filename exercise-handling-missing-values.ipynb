{
 "cells": [
  {
   "cell_type": "markdown",
   "id": "c19435f6",
   "metadata": {
    "papermill": {
     "duration": 0.008159,
     "end_time": "2022-07-27T04:14:19.865632",
     "exception": false,
     "start_time": "2022-07-27T04:14:19.857473",
     "status": "completed"
    },
    "tags": []
   },
   "source": [
    "**This notebook is an exercise in the [Data Cleaning](https://www.kaggle.com/learn/data-cleaning) course.  You can reference the tutorial at [this link](https://www.kaggle.com/alexisbcook/handling-missing-values).**\n",
    "\n",
    "---\n"
   ]
  },
  {
   "cell_type": "markdown",
   "id": "75b12d0a",
   "metadata": {
    "papermill": {
     "duration": 0.006771,
     "end_time": "2022-07-27T04:14:19.879563",
     "exception": false,
     "start_time": "2022-07-27T04:14:19.872792",
     "status": "completed"
    },
    "tags": []
   },
   "source": [
    "In this exercise, you'll apply what you learned in the **Handling missing values** tutorial.\n",
    "\n",
    "# Setup\n",
    "\n",
    "The questions below will give you feedback on your work. Run the following cell to set up the feedback system."
   ]
  },
  {
   "cell_type": "code",
   "execution_count": 1,
   "id": "01252e77",
   "metadata": {
    "execution": {
     "iopub.execute_input": "2022-07-27T04:14:19.895887Z",
     "iopub.status.busy": "2022-07-27T04:14:19.895257Z",
     "iopub.status.idle": "2022-07-27T04:14:25.075394Z",
     "shell.execute_reply": "2022-07-27T04:14:25.074141Z"
    },
    "papermill": {
     "duration": 5.191586,
     "end_time": "2022-07-27T04:14:25.078146",
     "exception": false,
     "start_time": "2022-07-27T04:14:19.886560",
     "status": "completed"
    },
    "tags": []
   },
   "outputs": [
    {
     "name": "stderr",
     "output_type": "stream",
     "text": [
      "/opt/conda/lib/python3.7/site-packages/ipykernel_launcher.py:3: DtypeWarning: Columns (22,32) have mixed types.Specify dtype option on import or set low_memory=False.\n",
      "  This is separate from the ipykernel package so we can avoid doing imports until\n"
     ]
    },
    {
     "name": "stdout",
     "output_type": "stream",
     "text": [
      "Setup Complete\n"
     ]
    }
   ],
   "source": [
    "from learntools.core import binder\n",
    "binder.bind(globals())\n",
    "from learntools.data_cleaning.ex1 import *\n",
    "print(\"Setup Complete\")"
   ]
  },
  {
   "cell_type": "markdown",
   "id": "14477fe5",
   "metadata": {
    "papermill": {
     "duration": 0.007448,
     "end_time": "2022-07-27T04:14:25.093425",
     "exception": false,
     "start_time": "2022-07-27T04:14:25.085977",
     "status": "completed"
    },
    "tags": []
   },
   "source": [
    "# 1) Take a first look at the data\n",
    "\n",
    "Run the next code cell to load in the libraries and dataset you'll use to complete the exercise."
   ]
  },
  {
   "cell_type": "code",
   "execution_count": 2,
   "id": "8e85696b",
   "metadata": {
    "execution": {
     "iopub.execute_input": "2022-07-27T04:14:25.110965Z",
     "iopub.status.busy": "2022-07-27T04:14:25.110573Z",
     "iopub.status.idle": "2022-07-27T04:14:26.887483Z",
     "shell.execute_reply": "2022-07-27T04:14:26.886145Z"
    },
    "papermill": {
     "duration": 1.788512,
     "end_time": "2022-07-27T04:14:26.889768",
     "exception": false,
     "start_time": "2022-07-27T04:14:25.101256",
     "status": "completed"
    },
    "tags": []
   },
   "outputs": [
    {
     "name": "stderr",
     "output_type": "stream",
     "text": [
      "/opt/conda/lib/python3.7/site-packages/IPython/core/interactiveshell.py:3552: DtypeWarning: Columns (22,32) have mixed types.Specify dtype option on import or set low_memory=False.\n",
      "  exec(code_obj, self.user_global_ns, self.user_ns)\n"
     ]
    }
   ],
   "source": [
    "# modules we'll use\n",
    "import pandas as pd\n",
    "import numpy as np\n",
    "\n",
    "# read in all our data\n",
    "sf_permits = pd.read_csv(\"../input/building-permit-applications-data/Building_Permits.csv\")\n",
    "\n",
    "# set seed for reproducibility\n",
    "np.random.seed(0) "
   ]
  },
  {
   "cell_type": "markdown",
   "id": "2c8271bc",
   "metadata": {
    "papermill": {
     "duration": 0.007241,
     "end_time": "2022-07-27T04:14:26.904621",
     "exception": false,
     "start_time": "2022-07-27T04:14:26.897380",
     "status": "completed"
    },
    "tags": []
   },
   "source": [
    "Use the code cell below to print the first five rows of the `sf_permits` DataFrame."
   ]
  },
  {
   "cell_type": "code",
   "execution_count": 3,
   "id": "f99f107b",
   "metadata": {
    "execution": {
     "iopub.execute_input": "2022-07-27T04:14:26.921073Z",
     "iopub.status.busy": "2022-07-27T04:14:26.920687Z",
     "iopub.status.idle": "2022-07-27T04:14:26.959549Z",
     "shell.execute_reply": "2022-07-27T04:14:26.958325Z"
    },
    "papermill": {
     "duration": 0.050065,
     "end_time": "2022-07-27T04:14:26.962102",
     "exception": false,
     "start_time": "2022-07-27T04:14:26.912037",
     "status": "completed"
    },
    "tags": []
   },
   "outputs": [
    {
     "data": {
      "text/html": [
       "<div>\n",
       "<style scoped>\n",
       "    .dataframe tbody tr th:only-of-type {\n",
       "        vertical-align: middle;\n",
       "    }\n",
       "\n",
       "    .dataframe tbody tr th {\n",
       "        vertical-align: top;\n",
       "    }\n",
       "\n",
       "    .dataframe thead th {\n",
       "        text-align: right;\n",
       "    }\n",
       "</style>\n",
       "<table border=\"1\" class=\"dataframe\">\n",
       "  <thead>\n",
       "    <tr style=\"text-align: right;\">\n",
       "      <th></th>\n",
       "      <th>Permit Number</th>\n",
       "      <th>Permit Type</th>\n",
       "      <th>Permit Type Definition</th>\n",
       "      <th>Permit Creation Date</th>\n",
       "      <th>Block</th>\n",
       "      <th>Lot</th>\n",
       "      <th>Street Number</th>\n",
       "      <th>Street Number Suffix</th>\n",
       "      <th>Street Name</th>\n",
       "      <th>Street Suffix</th>\n",
       "      <th>...</th>\n",
       "      <th>Existing Construction Type</th>\n",
       "      <th>Existing Construction Type Description</th>\n",
       "      <th>Proposed Construction Type</th>\n",
       "      <th>Proposed Construction Type Description</th>\n",
       "      <th>Site Permit</th>\n",
       "      <th>Supervisor District</th>\n",
       "      <th>Neighborhoods - Analysis Boundaries</th>\n",
       "      <th>Zipcode</th>\n",
       "      <th>Location</th>\n",
       "      <th>Record ID</th>\n",
       "    </tr>\n",
       "  </thead>\n",
       "  <tbody>\n",
       "    <tr>\n",
       "      <th>0</th>\n",
       "      <td>201505065519</td>\n",
       "      <td>4</td>\n",
       "      <td>sign - erect</td>\n",
       "      <td>05/06/2015</td>\n",
       "      <td>0326</td>\n",
       "      <td>023</td>\n",
       "      <td>140</td>\n",
       "      <td>NaN</td>\n",
       "      <td>Ellis</td>\n",
       "      <td>St</td>\n",
       "      <td>...</td>\n",
       "      <td>3.0</td>\n",
       "      <td>constr type 3</td>\n",
       "      <td>NaN</td>\n",
       "      <td>NaN</td>\n",
       "      <td>NaN</td>\n",
       "      <td>3.0</td>\n",
       "      <td>Tenderloin</td>\n",
       "      <td>94102.0</td>\n",
       "      <td>(37.785719256680785, -122.40852313194863)</td>\n",
       "      <td>1380611233945</td>\n",
       "    </tr>\n",
       "    <tr>\n",
       "      <th>1</th>\n",
       "      <td>201604195146</td>\n",
       "      <td>4</td>\n",
       "      <td>sign - erect</td>\n",
       "      <td>04/19/2016</td>\n",
       "      <td>0306</td>\n",
       "      <td>007</td>\n",
       "      <td>440</td>\n",
       "      <td>NaN</td>\n",
       "      <td>Geary</td>\n",
       "      <td>St</td>\n",
       "      <td>...</td>\n",
       "      <td>3.0</td>\n",
       "      <td>constr type 3</td>\n",
       "      <td>NaN</td>\n",
       "      <td>NaN</td>\n",
       "      <td>NaN</td>\n",
       "      <td>3.0</td>\n",
       "      <td>Tenderloin</td>\n",
       "      <td>94102.0</td>\n",
       "      <td>(37.78733980600732, -122.41063199757738)</td>\n",
       "      <td>1420164406718</td>\n",
       "    </tr>\n",
       "    <tr>\n",
       "      <th>2</th>\n",
       "      <td>201605278609</td>\n",
       "      <td>3</td>\n",
       "      <td>additions alterations or repairs</td>\n",
       "      <td>05/27/2016</td>\n",
       "      <td>0595</td>\n",
       "      <td>203</td>\n",
       "      <td>1647</td>\n",
       "      <td>NaN</td>\n",
       "      <td>Pacific</td>\n",
       "      <td>Av</td>\n",
       "      <td>...</td>\n",
       "      <td>1.0</td>\n",
       "      <td>constr type 1</td>\n",
       "      <td>1.0</td>\n",
       "      <td>constr type 1</td>\n",
       "      <td>NaN</td>\n",
       "      <td>3.0</td>\n",
       "      <td>Russian Hill</td>\n",
       "      <td>94109.0</td>\n",
       "      <td>(37.7946573324287, -122.42232562979227)</td>\n",
       "      <td>1424856504716</td>\n",
       "    </tr>\n",
       "    <tr>\n",
       "      <th>3</th>\n",
       "      <td>201611072166</td>\n",
       "      <td>8</td>\n",
       "      <td>otc alterations permit</td>\n",
       "      <td>11/07/2016</td>\n",
       "      <td>0156</td>\n",
       "      <td>011</td>\n",
       "      <td>1230</td>\n",
       "      <td>NaN</td>\n",
       "      <td>Pacific</td>\n",
       "      <td>Av</td>\n",
       "      <td>...</td>\n",
       "      <td>5.0</td>\n",
       "      <td>wood frame (5)</td>\n",
       "      <td>5.0</td>\n",
       "      <td>wood frame (5)</td>\n",
       "      <td>NaN</td>\n",
       "      <td>3.0</td>\n",
       "      <td>Nob Hill</td>\n",
       "      <td>94109.0</td>\n",
       "      <td>(37.79595867909168, -122.41557405519474)</td>\n",
       "      <td>1443574295566</td>\n",
       "    </tr>\n",
       "    <tr>\n",
       "      <th>4</th>\n",
       "      <td>201611283529</td>\n",
       "      <td>6</td>\n",
       "      <td>demolitions</td>\n",
       "      <td>11/28/2016</td>\n",
       "      <td>0342</td>\n",
       "      <td>001</td>\n",
       "      <td>950</td>\n",
       "      <td>NaN</td>\n",
       "      <td>Market</td>\n",
       "      <td>St</td>\n",
       "      <td>...</td>\n",
       "      <td>3.0</td>\n",
       "      <td>constr type 3</td>\n",
       "      <td>NaN</td>\n",
       "      <td>NaN</td>\n",
       "      <td>NaN</td>\n",
       "      <td>6.0</td>\n",
       "      <td>Tenderloin</td>\n",
       "      <td>94102.0</td>\n",
       "      <td>(37.78315261897309, -122.40950883997789)</td>\n",
       "      <td>144548169992</td>\n",
       "    </tr>\n",
       "  </tbody>\n",
       "</table>\n",
       "<p>5 rows × 43 columns</p>\n",
       "</div>"
      ],
      "text/plain": [
       "  Permit Number  Permit Type            Permit Type Definition  \\\n",
       "0  201505065519            4                      sign - erect   \n",
       "1  201604195146            4                      sign - erect   \n",
       "2  201605278609            3  additions alterations or repairs   \n",
       "3  201611072166            8            otc alterations permit   \n",
       "4  201611283529            6                       demolitions   \n",
       "\n",
       "  Permit Creation Date Block  Lot  Street Number Street Number Suffix  \\\n",
       "0           05/06/2015  0326  023            140                  NaN   \n",
       "1           04/19/2016  0306  007            440                  NaN   \n",
       "2           05/27/2016  0595  203           1647                  NaN   \n",
       "3           11/07/2016  0156  011           1230                  NaN   \n",
       "4           11/28/2016  0342  001            950                  NaN   \n",
       "\n",
       "  Street Name Street Suffix  ...  Existing Construction Type  \\\n",
       "0       Ellis            St  ...                         3.0   \n",
       "1       Geary            St  ...                         3.0   \n",
       "2     Pacific            Av  ...                         1.0   \n",
       "3     Pacific            Av  ...                         5.0   \n",
       "4      Market            St  ...                         3.0   \n",
       "\n",
       "  Existing Construction Type Description Proposed Construction Type  \\\n",
       "0                          constr type 3                        NaN   \n",
       "1                          constr type 3                        NaN   \n",
       "2                          constr type 1                        1.0   \n",
       "3                         wood frame (5)                        5.0   \n",
       "4                          constr type 3                        NaN   \n",
       "\n",
       "  Proposed Construction Type Description Site Permit Supervisor District  \\\n",
       "0                                    NaN         NaN                 3.0   \n",
       "1                                    NaN         NaN                 3.0   \n",
       "2                          constr type 1         NaN                 3.0   \n",
       "3                         wood frame (5)         NaN                 3.0   \n",
       "4                                    NaN         NaN                 6.0   \n",
       "\n",
       "  Neighborhoods - Analysis Boundaries  Zipcode  \\\n",
       "0                          Tenderloin  94102.0   \n",
       "1                          Tenderloin  94102.0   \n",
       "2                        Russian Hill  94109.0   \n",
       "3                            Nob Hill  94109.0   \n",
       "4                          Tenderloin  94102.0   \n",
       "\n",
       "                                    Location      Record ID  \n",
       "0  (37.785719256680785, -122.40852313194863)  1380611233945  \n",
       "1   (37.78733980600732, -122.41063199757738)  1420164406718  \n",
       "2    (37.7946573324287, -122.42232562979227)  1424856504716  \n",
       "3   (37.79595867909168, -122.41557405519474)  1443574295566  \n",
       "4   (37.78315261897309, -122.40950883997789)   144548169992  \n",
       "\n",
       "[5 rows x 43 columns]"
      ]
     },
     "execution_count": 3,
     "metadata": {},
     "output_type": "execute_result"
    }
   ],
   "source": [
    "# TODO: Your code here!\n",
    "sf_permits.head()"
   ]
  },
  {
   "cell_type": "markdown",
   "id": "5d3537a4",
   "metadata": {
    "papermill": {
     "duration": 0.007693,
     "end_time": "2022-07-27T04:14:26.977844",
     "exception": false,
     "start_time": "2022-07-27T04:14:26.970151",
     "status": "completed"
    },
    "tags": []
   },
   "source": [
    "Does the dataset have any missing values?  Once you have an answer, run the code cell below to get credit for your work."
   ]
  },
  {
   "cell_type": "code",
   "execution_count": 4,
   "id": "60411a21",
   "metadata": {
    "execution": {
     "iopub.execute_input": "2022-07-27T04:14:26.996120Z",
     "iopub.status.busy": "2022-07-27T04:14:26.995006Z",
     "iopub.status.idle": "2022-07-27T04:14:27.003596Z",
     "shell.execute_reply": "2022-07-27T04:14:27.002669Z"
    },
    "papermill": {
     "duration": 0.02005,
     "end_time": "2022-07-27T04:14:27.005799",
     "exception": false,
     "start_time": "2022-07-27T04:14:26.985749",
     "status": "completed"
    },
    "tags": []
   },
   "outputs": [
    {
     "data": {
      "application/javascript": [
       "parent.postMessage({\"jupyterEvent\": \"custom.exercise_interaction\", \"data\": {\"outcomeType\": 1, \"valueTowardsCompletion\": 0.16666666666666666, \"interactionType\": 1, \"questionType\": 4, \"questionId\": \"1_TakeFirstLook\", \"learnToolsVersion\": \"0.3.4\", \"failureMessage\": \"\", \"exceptionClass\": \"\", \"trace\": \"\"}}, \"*\")"
      ],
      "text/plain": [
       "<IPython.core.display.Javascript object>"
      ]
     },
     "metadata": {},
     "output_type": "display_data"
    },
    {
     "data": {
      "text/markdown": [
       "<span style=\"color:#33cc33\">Correct:</span> \n",
       "\n",
       "The first five rows of the data does show that several columns have missing values.  You can see this in the \"Street Number Suffix\", \"Proposed Construction Type\" and \"Site Permit\" columns, among others."
      ],
      "text/plain": [
       "Correct: \n",
       "\n",
       "The first five rows of the data does show that several columns have missing values.  You can see this in the \"Street Number Suffix\", \"Proposed Construction Type\" and \"Site Permit\" columns, among others."
      ]
     },
     "metadata": {},
     "output_type": "display_data"
    }
   ],
   "source": [
    "# Check your answer (Run this code cell to receive credit!)\n",
    "q1.check()"
   ]
  },
  {
   "cell_type": "code",
   "execution_count": 5,
   "id": "9739e162",
   "metadata": {
    "execution": {
     "iopub.execute_input": "2022-07-27T04:14:27.023925Z",
     "iopub.status.busy": "2022-07-27T04:14:27.023556Z",
     "iopub.status.idle": "2022-07-27T04:14:27.027624Z",
     "shell.execute_reply": "2022-07-27T04:14:27.026523Z"
    },
    "papermill": {
     "duration": 0.015827,
     "end_time": "2022-07-27T04:14:27.029856",
     "exception": false,
     "start_time": "2022-07-27T04:14:27.014029",
     "status": "completed"
    },
    "tags": []
   },
   "outputs": [],
   "source": [
    "# Line below will give you a hint\n",
    "#q1.hint()"
   ]
  },
  {
   "cell_type": "markdown",
   "id": "2da805e7",
   "metadata": {
    "papermill": {
     "duration": 0.007779,
     "end_time": "2022-07-27T04:14:27.045921",
     "exception": false,
     "start_time": "2022-07-27T04:14:27.038142",
     "status": "completed"
    },
    "tags": []
   },
   "source": [
    "# 2) How many missing data points do we have?\n",
    "\n",
    "What percentage of the values in the dataset are missing?  Your answer should be a number between 0 and 100.  (If 1/4 of the values in the dataset are missing, the answer is 25.)"
   ]
  },
  {
   "cell_type": "code",
   "execution_count": 6,
   "id": "d13225b4",
   "metadata": {
    "execution": {
     "iopub.execute_input": "2022-07-27T04:14:27.063948Z",
     "iopub.status.busy": "2022-07-27T04:14:27.063560Z",
     "iopub.status.idle": "2022-07-27T04:14:27.563609Z",
     "shell.execute_reply": "2022-07-27T04:14:27.562419Z"
    },
    "papermill": {
     "duration": 0.512001,
     "end_time": "2022-07-27T04:14:27.565998",
     "exception": false,
     "start_time": "2022-07-27T04:14:27.053997",
     "status": "completed"
    },
    "tags": []
   },
   "outputs": [
    {
     "data": {
      "application/javascript": [
       "parent.postMessage({\"jupyterEvent\": \"custom.exercise_interaction\", \"data\": {\"outcomeType\": 1, \"valueTowardsCompletion\": 0.16666666666666666, \"interactionType\": 1, \"questionType\": 1, \"questionId\": \"2_PercentMissingValues\", \"learnToolsVersion\": \"0.3.4\", \"failureMessage\": \"\", \"exceptionClass\": \"\", \"trace\": \"\"}}, \"*\")"
      ],
      "text/plain": [
       "<IPython.core.display.Javascript object>"
      ]
     },
     "metadata": {},
     "output_type": "display_data"
    },
    {
     "data": {
      "text/markdown": [
       "<span style=\"color:#33cc33\">Correct</span>"
      ],
      "text/plain": [
       "Correct"
      ]
     },
     "metadata": {},
     "output_type": "display_data"
    }
   ],
   "source": [
    "# TODO: Your code here!\n",
    "\n",
    "percent_missing = sum(sf_permits.isna().sum())/np.product(sf_permits.shape)*100\n",
    "\n",
    "# Check your answer\n",
    "q2.check()"
   ]
  },
  {
   "cell_type": "code",
   "execution_count": 7,
   "id": "b6e0e5eb",
   "metadata": {
    "execution": {
     "iopub.execute_input": "2022-07-27T04:14:27.585216Z",
     "iopub.status.busy": "2022-07-27T04:14:27.584843Z",
     "iopub.status.idle": "2022-07-27T04:14:27.589549Z",
     "shell.execute_reply": "2022-07-27T04:14:27.588285Z"
    },
    "papermill": {
     "duration": 0.016452,
     "end_time": "2022-07-27T04:14:27.591636",
     "exception": false,
     "start_time": "2022-07-27T04:14:27.575184",
     "status": "completed"
    },
    "tags": []
   },
   "outputs": [],
   "source": [
    "# Lines below will give you a hint or solution code\n",
    "#q2.hint()\n",
    "#q2.solution()"
   ]
  },
  {
   "cell_type": "markdown",
   "id": "d3578141",
   "metadata": {
    "papermill": {
     "duration": 0.008146,
     "end_time": "2022-07-27T04:14:27.608178",
     "exception": false,
     "start_time": "2022-07-27T04:14:27.600032",
     "status": "completed"
    },
    "tags": []
   },
   "source": [
    "# 3) Figure out why the data is missing\n",
    "\n",
    "Look at the columns **\"Street Number Suffix\"** and **\"Zipcode\"** from the [San Francisco Building Permits dataset](https://www.kaggle.com/aparnashastry/building-permit-applications-data). Both of these contain missing values. \n",
    "- Which, if either, are missing because they don't exist? \n",
    "- Which, if either, are missing because they weren't recorded?  \n",
    "\n",
    "Once you have an answer, run the code cell below."
   ]
  },
  {
   "cell_type": "code",
   "execution_count": 8,
   "id": "a2964910",
   "metadata": {
    "execution": {
     "iopub.execute_input": "2022-07-27T04:14:27.626858Z",
     "iopub.status.busy": "2022-07-27T04:14:27.626499Z",
     "iopub.status.idle": "2022-07-27T04:14:27.656360Z",
     "shell.execute_reply": "2022-07-27T04:14:27.655261Z"
    },
    "papermill": {
     "duration": 0.041802,
     "end_time": "2022-07-27T04:14:27.658494",
     "exception": false,
     "start_time": "2022-07-27T04:14:27.616692",
     "status": "completed"
    },
    "tags": []
   },
   "outputs": [
    {
     "data": {
      "text/plain": [
       "92        A\n",
       "146       C\n",
       "164       A\n",
       "200       C\n",
       "273       A\n",
       "         ..\n",
       "198762    B\n",
       "198771    A\n",
       "198772    B\n",
       "198803    A\n",
       "198851    A\n",
       "Name: Street Number Suffix, Length: 2216, dtype: object"
      ]
     },
     "execution_count": 8,
     "metadata": {},
     "output_type": "execute_result"
    }
   ],
   "source": [
    "sf_permits[sf_permits['Street Number Suffix'].isna() == False]['Street Number Suffix']"
   ]
  },
  {
   "cell_type": "code",
   "execution_count": 9,
   "id": "a2120ed3",
   "metadata": {
    "execution": {
     "iopub.execute_input": "2022-07-27T04:14:27.677078Z",
     "iopub.status.busy": "2022-07-27T04:14:27.676699Z",
     "iopub.status.idle": "2022-07-27T04:14:27.684914Z",
     "shell.execute_reply": "2022-07-27T04:14:27.683863Z"
    },
    "papermill": {
     "duration": 0.019912,
     "end_time": "2022-07-27T04:14:27.686844",
     "exception": false,
     "start_time": "2022-07-27T04:14:27.666932",
     "status": "completed"
    },
    "tags": []
   },
   "outputs": [
    {
     "data": {
      "application/javascript": [
       "parent.postMessage({\"jupyterEvent\": \"custom.exercise_interaction\", \"data\": {\"outcomeType\": 1, \"valueTowardsCompletion\": 0.16666666666666666, \"interactionType\": 1, \"questionType\": 4, \"questionId\": \"3_WhyDataMissing\", \"learnToolsVersion\": \"0.3.4\", \"failureMessage\": \"\", \"exceptionClass\": \"\", \"trace\": \"\"}}, \"*\")"
      ],
      "text/plain": [
       "<IPython.core.display.Javascript object>"
      ]
     },
     "metadata": {},
     "output_type": "display_data"
    },
    {
     "data": {
      "text/markdown": [
       "<span style=\"color:#33cc33\">Correct:</span> \n",
       "\n",
       "If a value in the \"Street Number Suffix\" column is missing, it is likely because it does not exist. If a value in the \"Zipcode\" column is missing, it was not recorded."
      ],
      "text/plain": [
       "Correct: \n",
       "\n",
       "If a value in the \"Street Number Suffix\" column is missing, it is likely because it does not exist. If a value in the \"Zipcode\" column is missing, it was not recorded."
      ]
     },
     "metadata": {},
     "output_type": "display_data"
    }
   ],
   "source": [
    "# Check your answer (Run this code cell to receive credit!)\n",
    "q3.check()"
   ]
  },
  {
   "cell_type": "code",
   "execution_count": 10,
   "id": "47c86b7a",
   "metadata": {
    "execution": {
     "iopub.execute_input": "2022-07-27T04:14:27.706286Z",
     "iopub.status.busy": "2022-07-27T04:14:27.705863Z",
     "iopub.status.idle": "2022-07-27T04:14:27.710818Z",
     "shell.execute_reply": "2022-07-27T04:14:27.709744Z"
    },
    "papermill": {
     "duration": 0.017491,
     "end_time": "2022-07-27T04:14:27.713270",
     "exception": false,
     "start_time": "2022-07-27T04:14:27.695779",
     "status": "completed"
    },
    "tags": []
   },
   "outputs": [],
   "source": [
    "# Line below will give you a hint\n",
    "#q3.hint()"
   ]
  },
  {
   "cell_type": "markdown",
   "id": "8899435c",
   "metadata": {
    "papermill": {
     "duration": 0.008835,
     "end_time": "2022-07-27T04:14:27.731004",
     "exception": false,
     "start_time": "2022-07-27T04:14:27.722169",
     "status": "completed"
    },
    "tags": []
   },
   "source": [
    "# 4) Drop missing values: rows\n",
    "\n",
    "If you removed all of the rows of `sf_permits` with missing values, how many rows are left?\n",
    "\n",
    "**Note**: Do not change the value of `sf_permits` when checking this.  "
   ]
  },
  {
   "cell_type": "code",
   "execution_count": 11,
   "id": "c8f74a29",
   "metadata": {
    "execution": {
     "iopub.execute_input": "2022-07-27T04:14:27.751046Z",
     "iopub.status.busy": "2022-07-27T04:14:27.750270Z",
     "iopub.status.idle": "2022-07-27T04:14:28.252280Z",
     "shell.execute_reply": "2022-07-27T04:14:28.251192Z"
    },
    "papermill": {
     "duration": 0.514602,
     "end_time": "2022-07-27T04:14:28.254621",
     "exception": false,
     "start_time": "2022-07-27T04:14:27.740019",
     "status": "completed"
    },
    "tags": []
   },
   "outputs": [
    {
     "data": {
      "text/plain": [
       "(0, 43)"
      ]
     },
     "execution_count": 11,
     "metadata": {},
     "output_type": "execute_result"
    }
   ],
   "source": [
    "# TODO: Your code here!\n",
    "sf_permits_drop_na = sf_permits.dropna()\n",
    "sf_permits_drop_na.shape"
   ]
  },
  {
   "cell_type": "markdown",
   "id": "e1053c4b",
   "metadata": {
    "papermill": {
     "duration": 0.009274,
     "end_time": "2022-07-27T04:14:28.272815",
     "exception": false,
     "start_time": "2022-07-27T04:14:28.263541",
     "status": "completed"
    },
    "tags": []
   },
   "source": [
    "Once you have an answer, run the code cell below."
   ]
  },
  {
   "cell_type": "code",
   "execution_count": 12,
   "id": "11999e15",
   "metadata": {
    "execution": {
     "iopub.execute_input": "2022-07-27T04:14:28.293534Z",
     "iopub.status.busy": "2022-07-27T04:14:28.292397Z",
     "iopub.status.idle": "2022-07-27T04:14:28.301860Z",
     "shell.execute_reply": "2022-07-27T04:14:28.300823Z"
    },
    "papermill": {
     "duration": 0.022148,
     "end_time": "2022-07-27T04:14:28.304111",
     "exception": false,
     "start_time": "2022-07-27T04:14:28.281963",
     "status": "completed"
    },
    "tags": []
   },
   "outputs": [
    {
     "data": {
      "application/javascript": [
       "parent.postMessage({\"jupyterEvent\": \"custom.exercise_interaction\", \"data\": {\"outcomeType\": 1, \"valueTowardsCompletion\": 0.16666666666666666, \"interactionType\": 1, \"questionType\": 4, \"questionId\": \"4_DropMissingRows\", \"learnToolsVersion\": \"0.3.4\", \"failureMessage\": \"\", \"exceptionClass\": \"\", \"trace\": \"\"}}, \"*\")"
      ],
      "text/plain": [
       "<IPython.core.display.Javascript object>"
      ]
     },
     "metadata": {},
     "output_type": "display_data"
    },
    {
     "data": {
      "text/markdown": [
       "<span style=\"color:#33cc33\">Correct:</span> \n",
       "\n",
       "There are no rows remaining in the dataset!"
      ],
      "text/plain": [
       "Correct: \n",
       "\n",
       "There are no rows remaining in the dataset!"
      ]
     },
     "metadata": {},
     "output_type": "display_data"
    }
   ],
   "source": [
    "# Check your answer (Run this code cell to receive credit!)\n",
    "q4.check()"
   ]
  },
  {
   "cell_type": "code",
   "execution_count": 13,
   "id": "a2c1758d",
   "metadata": {
    "execution": {
     "iopub.execute_input": "2022-07-27T04:14:28.324595Z",
     "iopub.status.busy": "2022-07-27T04:14:28.323927Z",
     "iopub.status.idle": "2022-07-27T04:14:28.328544Z",
     "shell.execute_reply": "2022-07-27T04:14:28.327770Z"
    },
    "papermill": {
     "duration": 0.017562,
     "end_time": "2022-07-27T04:14:28.330812",
     "exception": false,
     "start_time": "2022-07-27T04:14:28.313250",
     "status": "completed"
    },
    "tags": []
   },
   "outputs": [],
   "source": [
    "# Line below will give you a hint\n",
    "#q4.hint()"
   ]
  },
  {
   "cell_type": "markdown",
   "id": "ae6dc8f0",
   "metadata": {
    "papermill": {
     "duration": 0.008889,
     "end_time": "2022-07-27T04:14:28.348941",
     "exception": false,
     "start_time": "2022-07-27T04:14:28.340052",
     "status": "completed"
    },
    "tags": []
   },
   "source": [
    "# 5) Drop missing values: columns\n",
    "\n",
    "Now try removing all the columns with empty values.  \n",
    "- Create a new DataFrame called `sf_permits_with_na_dropped` that has all of the columns with empty values removed.  \n",
    "- How many columns were removed from the original `sf_permits` DataFrame? Use this number to set the value of the `dropped_columns` variable below."
   ]
  },
  {
   "cell_type": "code",
   "execution_count": 14,
   "id": "015e2bfd",
   "metadata": {
    "execution": {
     "iopub.execute_input": "2022-07-27T04:14:28.369433Z",
     "iopub.status.busy": "2022-07-27T04:14:28.368676Z",
     "iopub.status.idle": "2022-07-27T04:14:28.884867Z",
     "shell.execute_reply": "2022-07-27T04:14:28.883739Z"
    },
    "papermill": {
     "duration": 0.529241,
     "end_time": "2022-07-27T04:14:28.887329",
     "exception": false,
     "start_time": "2022-07-27T04:14:28.358088",
     "status": "completed"
    },
    "tags": []
   },
   "outputs": [
    {
     "data": {
      "application/javascript": [
       "parent.postMessage({\"jupyterEvent\": \"custom.exercise_interaction\", \"data\": {\"outcomeType\": 1, \"valueTowardsCompletion\": 0.16666666666666666, \"interactionType\": 1, \"questionType\": 1, \"questionId\": \"5_DropMissingCols\", \"learnToolsVersion\": \"0.3.4\", \"failureMessage\": \"\", \"exceptionClass\": \"\", \"trace\": \"\"}}, \"*\")"
      ],
      "text/plain": [
       "<IPython.core.display.Javascript object>"
      ]
     },
     "metadata": {},
     "output_type": "display_data"
    },
    {
     "data": {
      "text/markdown": [
       "<span style=\"color:#33cc33\">Correct</span>"
      ],
      "text/plain": [
       "Correct"
      ]
     },
     "metadata": {},
     "output_type": "display_data"
    }
   ],
   "source": [
    "# TODO: Your code here\n",
    "sf_permits_with_na_dropped = sf_permits.dropna(axis = 1)\n",
    "\n",
    "dropped_columns = sf_permits.columns.size - sf_permits_with_na_dropped.columns.size\n",
    "\n",
    "# Check your answer\n",
    "q5.check()"
   ]
  },
  {
   "cell_type": "code",
   "execution_count": 15,
   "id": "0a893d62",
   "metadata": {
    "execution": {
     "iopub.execute_input": "2022-07-27T04:14:28.908139Z",
     "iopub.status.busy": "2022-07-27T04:14:28.907763Z",
     "iopub.status.idle": "2022-07-27T04:14:28.912841Z",
     "shell.execute_reply": "2022-07-27T04:14:28.911793Z"
    },
    "papermill": {
     "duration": 0.018485,
     "end_time": "2022-07-27T04:14:28.915477",
     "exception": false,
     "start_time": "2022-07-27T04:14:28.896992",
     "status": "completed"
    },
    "tags": []
   },
   "outputs": [],
   "source": [
    "# Lines below will give you a hint or solution code\n",
    "#q5.hint()\n",
    "#q5.solution()"
   ]
  },
  {
   "cell_type": "markdown",
   "id": "d0369166",
   "metadata": {
    "papermill": {
     "duration": 0.009549,
     "end_time": "2022-07-27T04:14:28.935025",
     "exception": false,
     "start_time": "2022-07-27T04:14:28.925476",
     "status": "completed"
    },
    "tags": []
   },
   "source": [
    "# 6) Fill in missing values automatically\n",
    "\n",
    "Try replacing all the NaN's in the `sf_permits` data with the one that comes directly after it and then replacing any remaining NaN's with 0.  Set the result to a new DataFrame `sf_permits_with_na_imputed`."
   ]
  },
  {
   "cell_type": "code",
   "execution_count": 16,
   "id": "d1e44ad5",
   "metadata": {
    "execution": {
     "iopub.execute_input": "2022-07-27T04:14:28.956491Z",
     "iopub.status.busy": "2022-07-27T04:14:28.955725Z",
     "iopub.status.idle": "2022-07-27T04:14:30.426439Z",
     "shell.execute_reply": "2022-07-27T04:14:30.424744Z"
    },
    "papermill": {
     "duration": 1.484529,
     "end_time": "2022-07-27T04:14:30.429323",
     "exception": false,
     "start_time": "2022-07-27T04:14:28.944794",
     "status": "completed"
    },
    "tags": []
   },
   "outputs": [
    {
     "data": {
      "application/javascript": [
       "parent.postMessage({\"jupyterEvent\": \"custom.exercise_interaction\", \"data\": {\"outcomeType\": 1, \"valueTowardsCompletion\": 0.16666666666666666, \"interactionType\": 1, \"questionType\": 1, \"questionId\": \"6_ImputeAutomatically\", \"learnToolsVersion\": \"0.3.4\", \"failureMessage\": \"\", \"exceptionClass\": \"\", \"trace\": \"\"}}, \"*\")"
      ],
      "text/plain": [
       "<IPython.core.display.Javascript object>"
      ]
     },
     "metadata": {},
     "output_type": "display_data"
    },
    {
     "data": {
      "text/markdown": [
       "<span style=\"color:#33cc33\">Correct</span>"
      ],
      "text/plain": [
       "Correct"
      ]
     },
     "metadata": {},
     "output_type": "display_data"
    }
   ],
   "source": [
    "# TODO: Your code here\n",
    "sf_permits_with_na_imputed = sf_permits.fillna(method='bfill',axis = 0).fillna(0)\n",
    "\n",
    "# Check your answer\n",
    "q6.check()"
   ]
  },
  {
   "cell_type": "code",
   "execution_count": 17,
   "id": "8033a695",
   "metadata": {
    "execution": {
     "iopub.execute_input": "2022-07-27T04:14:30.453580Z",
     "iopub.status.busy": "2022-07-27T04:14:30.453193Z",
     "iopub.status.idle": "2022-07-27T04:14:30.457499Z",
     "shell.execute_reply": "2022-07-27T04:14:30.456169Z"
    },
    "papermill": {
     "duration": 0.020658,
     "end_time": "2022-07-27T04:14:30.460421",
     "exception": false,
     "start_time": "2022-07-27T04:14:30.439763",
     "status": "completed"
    },
    "tags": []
   },
   "outputs": [],
   "source": [
    "# Lines below will give you a hint or solution code\n",
    "#q6.hint()\n",
    "#q6.solution()"
   ]
  },
  {
   "cell_type": "markdown",
   "id": "f827b509",
   "metadata": {
    "papermill": {
     "duration": 0.012526,
     "end_time": "2022-07-27T04:14:30.487551",
     "exception": false,
     "start_time": "2022-07-27T04:14:30.475025",
     "status": "completed"
    },
    "tags": []
   },
   "source": [
    "# More practice\n",
    "\n",
    "If you're looking for more practice handling missing values:\n",
    "\n",
    "* Check out [this noteboook](https://www.kaggle.com/alexisbcook/missing-values) on handling missing values using scikit-learn's imputer. \n",
    "* Look back at the \"Zipcode\" column in the `sf_permits` dataset, which has some missing values. How would you go about figuring out what the actual zipcode of each address should be? (You might try using another dataset. You can search for datasets about San Fransisco on the [Datasets listing](https://www.kaggle.com/datasets).) \n",
    "\n",
    "# Keep going\n",
    "\n",
    "In the next lesson, learn how to [**apply scaling and normalization**](https://www.kaggle.com/alexisbcook/scaling-and-normalization) to transform your data."
   ]
  },
  {
   "cell_type": "markdown",
   "id": "4e66eb2b",
   "metadata": {
    "papermill": {
     "duration": 0.009903,
     "end_time": "2022-07-27T04:14:30.508076",
     "exception": false,
     "start_time": "2022-07-27T04:14:30.498173",
     "status": "completed"
    },
    "tags": []
   },
   "source": [
    "---\n",
    "\n",
    "\n",
    "\n",
    "\n",
    "*Have questions or comments? Visit the [course discussion forum](https://www.kaggle.com/learn/data-cleaning/discussion) to chat with other learners.*"
   ]
  }
 ],
 "metadata": {
  "kernelspec": {
   "display_name": "Python 3",
   "language": "python",
   "name": "python3"
  },
  "language_info": {
   "codemirror_mode": {
    "name": "ipython",
    "version": 3
   },
   "file_extension": ".py",
   "mimetype": "text/x-python",
   "name": "python",
   "nbconvert_exporter": "python",
   "pygments_lexer": "ipython3",
   "version": "3.7.12"
  },
  "papermill": {
   "default_parameters": {},
   "duration": 21.812374,
   "end_time": "2022-07-27T04:14:31.342616",
   "environment_variables": {},
   "exception": null,
   "input_path": "__notebook__.ipynb",
   "output_path": "__notebook__.ipynb",
   "parameters": {},
   "start_time": "2022-07-27T04:14:09.530242",
   "version": "2.3.4"
  }
 },
 "nbformat": 4,
 "nbformat_minor": 5
}
